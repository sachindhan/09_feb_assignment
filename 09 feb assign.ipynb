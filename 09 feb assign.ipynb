{
 "cells": [
  {
   "cell_type": "raw",
   "id": "ef12c821-c971-436d-a957-913d394f3e71",
   "metadata": {},
   "source": [
    "# Q1, Create a vehicle class with an init method having instance variables as name_of_vehicle, max_speed\n",
    "      and average_of_vehicle."
   ]
  },
  {
   "cell_type": "code",
   "execution_count": 13,
   "id": "7c4d2df9-deef-4144-b075-3084257a474c",
   "metadata": {},
   "outputs": [],
   "source": [
    "class vehicle :\n",
    "    \n",
    "    def __init__(self,name_of_vehicle , max_speed , avegare_of_vehicle) :\n",
    "        self.name_of_vehicle = name_of_vehicle\n",
    "        self.max_speed = 100\n",
    "        self.average_of_vehicle= 40\n",
    "        "
   ]
  },
  {
   "cell_type": "code",
   "execution_count": 15,
   "id": "f78f2eb8-84ee-49ec-997f-ef1d86b1de74",
   "metadata": {},
   "outputs": [],
   "source": [
    "v = vehicle( \"audi\", 10 , 25)"
   ]
  },
  {
   "cell_type": "code",
   "execution_count": 31,
   "id": "dc8e9e1a-b4eb-4a99-b46a-21803ccd8403",
   "metadata": {},
   "outputs": [],
   "source": [
    "class car(vehicle) :\n",
    "    def seating_capacity(self,capacity) :\n",
    "        v.name_of_vehicle(self)\n",
    "        \n",
    "        \n",
    "        "
   ]
  },
  {
   "cell_type": "code",
   "execution_count": 32,
   "id": "a759d02e-f4b9-4a40-8793-f752c1ca0d13",
   "metadata": {},
   "outputs": [],
   "source": [
    "obj_car = car(\"audi\", 10 , 25)"
   ]
  },
  {
   "cell_type": "code",
   "execution_count": 33,
   "id": "519ad6aa-440a-4168-964f-26861fc90d9f",
   "metadata": {},
   "outputs": [
    {
     "ename": "TypeError",
     "evalue": "'str' object is not callable",
     "output_type": "error",
     "traceback": [
      "\u001b[0;31m---------------------------------------------------------------------------\u001b[0m",
      "\u001b[0;31mTypeError\u001b[0m                                 Traceback (most recent call last)",
      "Cell \u001b[0;32mIn[33], line 1\u001b[0m\n\u001b[0;32m----> 1\u001b[0m \u001b[43mobj_car\u001b[49m\u001b[38;5;241;43m.\u001b[39;49m\u001b[43mseating_capacity\u001b[49m\u001b[43m(\u001b[49m\u001b[38;5;241;43m50\u001b[39;49m\u001b[43m)\u001b[49m\n",
      "Cell \u001b[0;32mIn[31], line 3\u001b[0m, in \u001b[0;36mcar.seating_capacity\u001b[0;34m(self, capacity)\u001b[0m\n\u001b[1;32m      2\u001b[0m \u001b[38;5;28;01mdef\u001b[39;00m \u001b[38;5;21mseating_capacity\u001b[39m(\u001b[38;5;28mself\u001b[39m,capacity) :\n\u001b[0;32m----> 3\u001b[0m     \u001b[43mv\u001b[49m\u001b[38;5;241;43m.\u001b[39;49m\u001b[43mname_of_vehicle\u001b[49m\u001b[43m(\u001b[49m\u001b[38;5;28;43mself\u001b[39;49m\u001b[43m)\u001b[49m\n",
      "\u001b[0;31mTypeError\u001b[0m: 'str' object is not callable"
     ]
    }
   ],
   "source": [
    "obj_car.seating_capacity(50)"
   ]
  },
  {
   "cell_type": "raw",
   "id": "bfafe114-7f46-4a33-98c2-1ab1a8f31f65",
   "metadata": {},
   "source": [
    "\n",
    "Q3.\n",
    "\n",
    "When a class is derived from more than one base class it is called multiple Inheritance. The derived class inherits all the features of the base case. \n",
    "\n",
    "example\n",
    "        class Class1:\n",
    "            def m(self):\n",
    "                print(\"In Class1\")\n",
    "\n",
    "        class Class2(Class1):\n",
    "            def m(self):\n",
    "                print(\"In Class2\")\n",
    "\n",
    "        class Class3(Class1):\n",
    "            def m(self):\n",
    "                print(\"In Class3\") \n",
    "\n",
    "        class Class4(Class2, Class3):\n",
    "            pass  \n",
    "\n",
    "        obj = Class4()\n",
    "        obj.m()\n",
    "\n"
   ]
  },
  {
   "cell_type": "raw",
   "id": "b6209ec1-21ef-49be-a118-2419f3f50ecf",
   "metadata": {},
   "source": [
    "Q4. \n",
    "\n",
    "In Python, getters and setters are not the same as those in other object-oriented programming languages. Basically, the main purpose of using getters and setters in object-oriented programs is to ensure data encapsulation\n",
    "\n",
    "\n",
    "example\n",
    "\n",
    "class car :\n",
    "    def __init__(self , year ,make , model , speed ) :\n",
    "        \n",
    "        self.__year = year\n",
    "        self.__make = make\n",
    "        self.__model = model\n",
    "        self.__speed = 0\n",
    "        \n",
    "    def set_speed(self,speed) :\n",
    "        self.__speed = 0 if speed < 0 else speed \n",
    "    \n",
    "    def get_speed(self) :\n",
    "        return self.__speed\n",
    "        \n",
    "        "
   ]
  },
  {
   "cell_type": "raw",
   "id": "309d835c-3300-40c8-ac87-11c172d6bd2c",
   "metadata": {},
   "source": [
    "Q5. \n",
    " \n",
    "    Method overriding is an ability of any object-oriented programming language that allows a subclass or child class to provide a specific implementation of a method that is already provided by one of its super-classes or parent classes. When a method in a subclass has the same name, same parameters or signature and same return type(or sub-type) as a method in its super-class, then the method in the subclass is said to override the method in the super-class.\n",
    "    \n",
    "    \n",
    "    \n",
    "    example\n",
    "    \n",
    "             class Parent():\n",
    "\n",
    "            # Constructor\n",
    "            def __init__(self):\n",
    "                self.value = \"Inside Parent\"\n",
    "\n",
    "            # Parent's show method\n",
    "            def show(self):\n",
    "                print(self.value)\n",
    "\n",
    "        # Defining child class\n",
    "        class Child(Parent):\n",
    "\n",
    "            # Constructor\n",
    "            def __init__(self):\n",
    "                self.value = \"Inside Child\"\n",
    "\n",
    "            # Child's show method\n",
    "            def show(self):\n",
    "                print(self.value)\n",
    "\n",
    "\n",
    "        # Driver's code\n",
    "        obj1 = Parent()\n",
    "        obj2 = Child()\n",
    "\n",
    "        obj1.show()\n",
    "        obj2.show()\n",
    "        \n",
    "        "
   ]
  },
  {
   "cell_type": "markdown",
   "id": "14886c18-cd57-4576-9760-f8e02bfa7980",
   "metadata": {},
   "source": [
    "###          how we get the solutions of the assignment  ???"
   ]
  },
  {
   "cell_type": "code",
   "execution_count": null,
   "id": "fee85d0d-55d3-4194-8946-27f04b857155",
   "metadata": {},
   "outputs": [],
   "source": []
  }
 ],
 "metadata": {
  "kernelspec": {
   "display_name": "Python 3 (ipykernel)",
   "language": "python",
   "name": "python3"
  },
  "language_info": {
   "codemirror_mode": {
    "name": "ipython",
    "version": 3
   },
   "file_extension": ".py",
   "mimetype": "text/x-python",
   "name": "python",
   "nbconvert_exporter": "python",
   "pygments_lexer": "ipython3",
   "version": "3.10.8"
  }
 },
 "nbformat": 4,
 "nbformat_minor": 5
}
